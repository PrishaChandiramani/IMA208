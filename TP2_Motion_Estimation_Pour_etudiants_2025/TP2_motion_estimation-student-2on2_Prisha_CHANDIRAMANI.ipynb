{
 "cells": [
  {
   "cell_type": "markdown",
   "metadata": {},
   "source": [
    "Prisha CHANDIRAMANI"
   ]
  },
  {
   "cell_type": "markdown",
   "metadata": {},
   "source": [
    "This second practical work, on motion estimation, deals with parametric motion estimation. You have to reuse some of the functions you implemented during the first practical work.\n",
    "\n",
    "You are asked to complete the different algorithms and to try it. Also, please answer to the theoretical questions, in the notebook."
   ]
  },
  {
   "cell_type": "code",
   "execution_count": 348,
   "metadata": {},
   "outputs": [],
   "source": [
    "import numpy as np\n",
    "from scipy.io import loadmat\n",
    "import matplotlib.pyplot as plt\n",
    "import cv2\n",
    "from scipy.ndimage import gaussian_filter\n",
    "from scipy.interpolate import griddata\n",
    "from scipy.signal import convolve2d\n",
    "from cv2 import copyMakeBorder,BORDER_REPLICATE"
   ]
  },
  {
   "cell_type": "markdown",
   "metadata": {},
   "source": [
    "# Parametric estimation\n",
    "In this second practical work, we will work on parametric estimation, both using direct and indirect methods.\n",
    "## I- Direct parametric estimation\n",
    "## I-1 Theoretical questions\n",
    "\n",
    "**Infinite signal**\n",
    "\n",
    "Let $a: (n,m)\\in \\mathbb{Z}^2 \\rightarrow \\mathbb{R}$ be a bi-dimensional signal and $b(n,m)$ a signal of the same type.\n",
    "\n",
    "**Recall the expression of the 2D discrete time Fourier transform (DTFT).**\n",
    "\n",
    "Let us suppose that\n",
    "$\\exists c,d \\in \\mathbb{Z}^2: \\forall n,m \\in \\mathbb{Z}^2,b(n,m) = a(n+c,m+d)$ (that is, $b$ is a translation of $a$). **Compute the DTFT** of $b$ as a function of the one of $a$ and of the displacement $(c,d)$.\n",
    "\n",
    "**Show that the ratio between the DTFTs is:**\n",
    "$$\n",
    "\\frac{\\hat{b}(\\nu_x,\\nu_y)}{\\hat{a}(\\nu_x,\\nu_y)} = \\exp(i2\\pi (c\\nu_x + d \\nu_y))\n",
    "$$\n",
    "\n",
    "**Finite signal**\n",
    "\n",
    "Now, $a: (n,m) \\in \\{0,1,...,N-1\\}^2 \\rightarrow \\mathbb{R}$ and $b(n,m)$ are both finite signals. In that case, we use the Discrete Fourier Transform (DFT) rather than the DTFT.\n",
    "\n",
    "**Recall the expression of the DFT.**\n",
    "\n",
    "**Under which hypotheses is the ratio between $a$'s and $b$'s DFT a linear phase signal?**\n",
    "$$\n",
    "\\frac{\\hat{B}(k_x,k_y)}{\\hat{A}(k_x,k_y)} = \\exp\\left(\\frac{2i\\pi(ck_x + dk_y)}{N}\\right)\n",
    "$$"
   ]
  },
  {
   "cell_type": "markdown",
   "metadata": {},
   "source": [
    "**ANSWERS**\n",
    "\n",
    "**Infinite signals**\n",
    "\n",
    "The 2D discrete time Fourier transform (DTFT) of a signal a(n,m) is \n",
    "$$ \\hat{a}(\\nu_x, \\nu_y) = \\sum_{n=-\\infty}^{\\infty} \\sum_{m=-\\infty}^{\\infty} a(n,m) \\exp(-i 2\\pi (n \\nu_x + m \\nu_y)) $$\n",
    "\n",
    "The DTFT of b is\n",
    "\n",
    "$$ \\hat{b}(\\nu_x, \\nu_y) = \\sum_{n=-\\infty}^{\\infty} \\sum_{m=-\\infty}^{\\infty} b(n,m) \\exp(-i 2\\pi (n \\nu_x + m \\nu_y)) $$\n",
    "\n",
    "Having b(n,m) = a(n+c,m+d), we can write :\n",
    "\n",
    "$$ \\hat{b}(\\nu_x, \\nu_y) = \\sum_{n=-\\infty}^{\\infty} \\sum_{m=-\\infty}^{\\infty} a(n+c, m+d) \\exp(-i 2\\pi (n \\nu_x + m \\nu_y)) $$\n",
    "\n",
    "By the change of variables n' = n + c and m' = m + c, we get :\n",
    "\n",
    "$$ \\hat{b}(\\nu_x, \\nu_y) = \\sum_{n'=-\\infty}^{\\infty} \\sum_{m'=-\\infty}^{\\infty} a(n', m') \\exp(-i 2\\pi ((n'-c) \\nu_x + (m'-d) \\nu_y)) $$\n",
    "\n",
    "We can rewrite it : \n",
    "\n",
    "$$ \\hat{b}(\\nu_x, \\nu_y) = \\sum_{n'=-\\infty}^{\\infty} \\sum_{m'=-\\infty}^{\\infty} a(n', m') \\exp(-i 2\\pi (n' \\nu_x + m' \\nu_y)) \\exp(i 2\\pi (c \\nu_x + d \\nu_y)) $$\n",
    "\n",
    "We can then recognize the DTFT of a and write: \n",
    "\n",
    "$$ \\hat{b}(\\nu_x, \\nu_y) = \\hat{a}(\\nu_x, \\nu_y) \\exp(i 2\\pi (c \\nu_x + d \\nu_y)) $$\n",
    "\n",
    "Thus, the ration between the DTFTs of b and a is: \n",
    "\n",
    "$$ \\frac{\\hat{b}(\\nu_x, \\nu_y)}{\\hat{a}(\\nu_x, \\nu_y)} = \\exp(i 2\\pi (c \\nu_x + d \\nu_y)) $$\n",
    "\n",
    "**Finite Signals**\n",
    "\n",
    "The DFT of a finite signal of size $N^2$ is : \n",
    "\n",
    "$$ \\hat{A}(k_x, k_y) = \\sum_{n=0}^{N-1} \\sum_{m=0}^{N-1} a(n,m) \\exp\\left(-\\frac{2i\\pi (n k_x + m k_y)}{N}\\right) $$\n",
    "\n",
    "Reasoning the same way as with infinite signals, we get that the ration between the DFTs of b and a is:\n",
    "\n",
    "$$ \\frac{\\hat{B}(k_x, k_y)}{\\hat{A}(k_x, k_y)} = \\exp\\left(\\frac{2i\\pi (c k_x + d k_y)}{N}\\right) $$\n",
    "\n",
    "The hypotheses for the ratio between a's and b's DFT to be a linear phase signal are : \n",
    "\n",
    "* The signals a and b must be related by a simple translation, which means b(n,m) = a(n+c, m+d) where c and d are integer offsets. \n",
    "\n",
    "* The translation must respect the periodic boundary conditions of the finite signal, meaning that the indices (n+c) and (m+d) are taken modulo N."
   ]
  },
  {
   "cell_type": "markdown",
   "metadata": {},
   "source": [
    "## I-2 Practical part\n",
    "First, start to work on the 'ball.mat' image. We will apply a translation to this image and try to estimate the parameter of the translation.\n",
    "\n",
    "Try by either adding or not some noise into the image."
   ]
  },
  {
   "cell_type": "code",
   "execution_count": 349,
   "metadata": {},
   "outputs": [],
   "source": [
    "im1 = loadmat('ball.mat')['im1']\n",
    "im1 = im1.astype('float')\n",
    "\n",
    "#im1 = loadmat('lena.mat')['im1']\n",
    "#im1 = im1.astype('float')\n",
    "\n",
    "N, M = np.shape(im1)"
   ]
  },
  {
   "cell_type": "code",
   "execution_count": 350,
   "metadata": {},
   "outputs": [
    {
     "data": {
      "text/plain": [
       "(<Figure size 640x480 with 1 Axes>,\n",
       " <matplotlib.image.AxesImage at 0x1659a3390>)"
      ]
     },
     "execution_count": 350,
     "metadata": {},
     "output_type": "execute_result"
    },
    {
     "data": {
      "image/png": "[encoded data removed]",
      "text/plain": [
       "<Figure size 640x480 with 1 Axes>"
      ]
     },
     "metadata": {},
     "output_type": "display_data"
    }
   ],
   "source": [
    "# Potentially add noise to the image\n",
    "sigma = 0   # 0,2,5\n",
    "im1_b = im1 + np.random.normal(0, sigma, (N, M))\n",
    "\n",
    "\n",
    "\n",
    "plt.figure(),plt.imshow(im1_b,cmap='gray')"
   ]
  },
  {
   "cell_type": "markdown",
   "metadata": {},
   "source": [
    "In the following, we apply a translation to the image. To do that, use the applyAffineMotion function which is already pre-implemented."
   ]
  },
  {
   "cell_type": "code",
   "execution_count": 351,
   "metadata": {},
   "outputs": [],
   "source": [
    "def fracMc(ref,mvf,outofbound=20):\n",
    "    \n",
    "    [rows, cols] = np.shape(ref);\n",
    "    \n",
    "    \n",
    "    \n",
    "    mc_c, mc_r = np.meshgrid(np.arange(cols),np.arange(rows)) # Initial coordinates, used to infer the new coordinates\n",
    "    \n",
    "    mc_r_tmp = mc_r + mvf[:,:,0] # Row coordinates, after the movement\n",
    "    mc_c_tmp = mc_c + mvf[:,:,1] # Column coordinates, after the movement\n",
    "    \n",
    "    extension = outofbound\n",
    "    #ref = cv2.copyMakeBorder(ref, extension, extension, extension, extension, cv2.BORDER_REPLICATE)# Padded image\n",
    "    ref = cv2.copyMakeBorder(ref, extension, extension, extension, extension, cv2.BORDER_REFLECT)# Padded image\n",
    "    \n",
    "    mc_r = mc_r_tmp + extension # Row coordinates, after the movement, in which we want to do the interpolation (in the padded image)\n",
    "    mc_c = mc_c_tmp + extension # Column coordinates, after the movement, in which we want to do the interpolation (in the padded image)\n",
    "    \n",
    "    colMeshGrid, rowMeshGrid = np.meshgrid(np.arange(cols+2*extension),np.arange(rows+2*extension)) # Original coordinates, at which we know the data points\n",
    "    \n",
    "    \n",
    "    # Put the input coordinates into the form of an array, to mach scipy format\n",
    "    points = np.zeros((np.shape(ref)[0]*np.shape(ref)[1],2))\n",
    "    points[:,0] = colMeshGrid.reshape(np.shape(ref)[0]*np.shape(ref)[1])\n",
    "    points[:,1] = rowMeshGrid.reshape(np.shape(ref)[0]*np.shape(ref)[1])\n",
    "    \n",
    "    values = ref.reshape(np.shape(ref)[0]*np.shape(ref)[1])    \n",
    "    \n",
    "    \n",
    "    # Put the coordinates in which we want ot do the interpolation into the form of an array, to mach scipy format\n",
    "    points_inter = np.zeros((rows*cols,2))\n",
    "    points_inter[:,0] = mc_c.reshape(rows*cols)\n",
    "    points_inter[:,1] = mc_r.reshape(rows*cols)\n",
    "    \n",
    "    motcomp =  griddata(points, values, points_inter,'linear')\n",
    "    \n",
    "    motcomp = motcomp.reshape(rows,cols)\n",
    "\n",
    "    return motcomp\n",
    "\n",
    "\n",
    "def applyAffineMotion(x,b,B = np.zeros((2,2)),out = 100):\n",
    "    N, M = np.shape(x)\n",
    "    px, py = np.meshgrid(np.arange(-(M-1)/2,(M-1)/2+1), np.arange(-(N-1)/2,(N-1)/2+1))\n",
    "    \n",
    "    mvfx = b[0] + B[0,0]*px + B[0,1]*py\n",
    "    mvfy = b[1] + B[1,0]*px + B[1,1]*py\n",
    "    \n",
    "    mvf = np.zeros((np.shape(mvfx)[0],np.shape(mvfx)[1],2))\n",
    "    mvf[:,:,1] = mvfx\n",
    "    mvf[:,:,0] = mvfy\n",
    "    \n",
    "    y = fracMc(x,mvf,out)\n",
    "    return y"
   ]
  },
  {
   "cell_type": "code",
   "execution_count": 352,
   "metadata": {},
   "outputs": [
    {
     "data": {
      "text/plain": [
       "(<Figure size 640x480 with 1 Axes>,\n",
       " <matplotlib.image.AxesImage at 0x1655e7b10>)"
      ]
     },
     "execution_count": 352,
     "metadata": {},
     "output_type": "execute_result"
    },
    {
     "data": {
      "image/png": "[encoded data removed]",
      "text/plain": [
       "<Figure size 640x480 with 1 Axes>"
      ]
     },
     "metadata": {},
     "output_type": "display_data"
    }
   ],
   "source": [
    "horiz_displacement = 9.3\n",
    "vert_displacement  = 1.84\n",
    "b = np.array([ horiz_displacement, vert_displacement])\n",
    "\n",
    "# We could also use an affine motion matrix\n",
    "#B = np.zeros((2,2))\n",
    "\n",
    "im2 = applyAffineMotion(im1_b,b)\n",
    "plt.figure(),plt.imshow(im2,cmap='gray')"
   ]
  },
  {
   "cell_type": "markdown",
   "metadata": {},
   "source": [
    "Compute the FFT of the two images. Using the indications given in the theroretical part, describe a method with which you can find the parameters of the translation from the two FFTs."
   ]
  },
  {
   "cell_type": "markdown",
   "metadata": {},
   "source": [
    "**ANSWER:**\n",
    "\n",
    "Once we compute the 2D FFTs of the two images, we get that the ratio between the two FFTs is a complex exponential, whose phase contains information about the translation parameters. \n",
    "$$ \\frac{\\hat{B}(k_x, k_y)}{\\hat{A}(k_x, k_y)} = \\exp\\left(\\frac{2i\\pi (c k_x + d k_y)}{N}\\right) $$\n",
    "\n",
    "From this ratio, we can extract the phase and plot it as a function of $k_x$ and $k_y$. The phase should be a linear function of $k_x$ and $k_y$. \n",
    "$$Phase(k_x,k_y) = \\frac{2\\pi (c k_x + d k_y)}{N}$$\n",
    "The slopes of the phase with respect to $k_x$ and $k_y$ will give the translation parameters c and d we are looking for. "
   ]
  },
  {
   "cell_type": "code",
   "execution_count": 353,
   "metadata": {},
   "outputs": [],
   "source": [
    "IM1 = np.fft.fft2(im1_b)\n",
    "IM2 = np.fft.fft2(im2)"
   ]
  },
  {
   "cell_type": "markdown",
   "metadata": {},
   "source": [
    "Compute the phase of the Fourier transform."
   ]
  },
  {
   "cell_type": "code",
   "execution_count": 354,
   "metadata": {},
   "outputs": [],
   "source": [
    "def angle2D(x):\n",
    "    a = np.angle(x)\n",
    "    \n",
    "    b1 = np.unwrap(a,axis=0)\n",
    "    b2 = np.unwrap(b1,axis=1)\n",
    "    b3 = np.unwrap(a,axis=0)[:,::-1]\n",
    "    b4 = np.unwrap(b3,axis=1)[:,::-1]\n",
    "    \n",
    "    y = (b2+b4)/2./(-2.*np.pi)\n",
    "    return y"
   ]
  },
  {
   "cell_type": "code",
   "execution_count": 355,
   "metadata": {},
   "outputs": [],
   "source": [
    "phi = angle2D(IM1/IM2)"
   ]
  },
  {
   "cell_type": "markdown",
   "metadata": {},
   "source": [
    "Display phi. Is it a linear plane and why?"
   ]
  },
  {
   "cell_type": "markdown",
   "metadata": {},
   "source": [
    "**Answer:**\n",
    "\n",
    "In the case of the ball image without noise, phi is a linear plane. There is no additional noise. When plotted, we can see that the plane is linear. \n",
    "In the three other cases (ball with noise, lena without noise, lena with noise), phi is not a linear plane."
   ]
  },
  {
   "cell_type": "code",
   "execution_count": 356,
   "metadata": {},
   "outputs": [
    {
     "data": {
      "image/png": "[encoded data removed]",
      "text/plain": [
       "<Figure size 640x480 with 1 Axes>"
      ]
     },
     "metadata": {},
     "output_type": "display_data"
    }
   ],
   "source": [
    "fx, fy = np.meshgrid(np.arange(-(M-1)/2,(M-1)/2+1)/M, np.arange(-(N-1)/2,(N-1)/2+1)/N)\n",
    "fig, ax = plt.subplots(subplot_kw={\"projection\": \"3d\"})\n",
    "surf = ax.plot_surface(fx, fy, phi, linewidth=0, antialiased=False)\n"
   ]
  },
  {
   "cell_type": "markdown",
   "metadata": {},
   "source": [
    "Translation estimation: to estimate the parameters of the translation, we are now looking for the slope of the plane.\n",
    "\n",
    "Method 1: estimate it using the median of the gradient. To do that, complete the gradient function."
   ]
  },
  {
   "cell_type": "code",
   "execution_count": 357,
   "metadata": {},
   "outputs": [],
   "source": [
    "def gradient(M,stepX=1.,stepY=1.):\n",
    "# Computes the gradient of an image, over the rows and the column directions. StepY is the assumed gap between the rows and StepX is the assumed gap between the columns\n",
    "\n",
    "    gy = np.zeros((np.shape(M)[0],np.shape(M)[1]))\n",
    "    gx = np.zeros((np.shape(M)[0],np.shape(M)[1]))\n",
    "    \n",
    "\n",
    "    gy[0:-1,:] = (M[1:,:]-M[0:-1,:])/stepY\n",
    "    gx[:,0:-1] = (M[:,1:]-M[:,0:-1])/stepX\n",
    "\n",
    "    \n",
    "    return gx,gy"
   ]
  },
  {
   "cell_type": "code",
   "execution_count": 358,
   "metadata": {},
   "outputs": [],
   "source": [
    "gx, gy = gradient(phi,1/M,1/N)\n",
    "GX = np.median(gx)\n",
    "GY = np.median(gy)"
   ]
  },
  {
   "cell_type": "code",
   "execution_count": 359,
   "metadata": {},
   "outputs": [
    {
     "name": "stdout",
     "output_type": "stream",
     "text": [
      "[[9.30283689 9.30242951 9.30125841 ... 9.30125841 9.30242951 0.        ]\n",
      " [9.30317998 9.30319657 9.30264532 ... 9.30052513 9.30209924 0.        ]\n",
      " [9.30392933 9.30463365 9.30526943 ... 9.30005732 9.30203692 0.        ]\n",
      " ...\n",
      " [9.30363081 9.30200844 9.29927549 ... 9.3104919  9.30719155 0.        ]\n",
      " [9.30312389 9.30203692 9.30005732 ... 9.30526943 9.30463365 0.        ]\n",
      " [9.30283422 9.30209924 9.30052513 ... 9.30264532 9.30319657 0.        ]]\n",
      "[[1.83921253 1.83955561 1.84032267 ... 1.84027875 1.83954547 1.8392152 ]\n",
      " [1.83886359 1.83961294 1.84105003 ... 1.83910404 1.83863623 1.83857392]\n",
      " [1.83782285 1.83908418 1.84164208 ... 1.83812624 1.83734441 1.83731593]\n",
      " ...\n",
      " [1.83782285 1.83731593 1.83734441 ... 1.84686455 1.84164208 1.83908418]\n",
      " [1.83886359 1.83857392 1.83863623 ... 1.84367414 1.84105003 1.83961294]\n",
      " [0.         0.         0.         ... 0.         0.         0.        ]]\n"
     ]
    }
   ],
   "source": [
    "print(gx)\n",
    "print(gy)"
   ]
  },
  {
   "cell_type": "code",
   "execution_count": 360,
   "metadata": {},
   "outputs": [
    {
     "name": "stdout",
     "output_type": "stream",
     "text": [
      "9.340554949721707\n",
      "1.8941488530580273\n"
     ]
    }
   ],
   "source": [
    "print(GX)\n",
    "print(GY)"
   ]
  },
  {
   "cell_type": "markdown",
   "metadata": {},
   "source": [
    "Method 2: the code below computes the least Square planar approximation of phi, enabling you how to estimate the parameters of the translation. Explain how it works."
   ]
  },
  {
   "cell_type": "markdown",
   "metadata": {},
   "source": [
    "**Answer:**\n",
    "\n",
    "First we center the value of phi to have a zero-centered mean. Then we apply the median filter to phi with a (3x3) neighborhood around each pixel. This allows us to reduce noise. \n",
    "The linear system $\\phi = A[c,d]^T $ is then solved using least square by computing the pseudo-inverse of A, which contains $f_x$ and $f_y$, and multiplying it by b (filtered phi flattened). The result is stored in bEst. bEst gives the estimated displacement."
   ]
  },
  {
   "cell_type": "code",
   "execution_count": 361,
   "metadata": {},
   "outputs": [],
   "source": [
    "def medianFilter(x,N):\n",
    "    z = copyMakeBorder(x, N, N, N, N, BORDER_REPLICATE)\n",
    "    y = np.zeros(np.shape(x))\n",
    "    \n",
    "    for r in range(np.shape(x)[0]):\n",
    "        for c in range(np.shape(x)[1]):\n",
    "            tmp = z[r:r+2*N+1,c:c+2*N+1]\n",
    "            y[r,c] = np.median(tmp)\n",
    "    return y"
   ]
  },
  {
   "cell_type": "code",
   "execution_count": 362,
   "metadata": {},
   "outputs": [],
   "source": [
    "phi = phi-phi[int(N/2+2), int(M/2+2)]\n",
    "t = medianFilter(phi,1)\n",
    "A = np.zeros((np.shape(fx)[0]*np.shape(fx)[1],2))\n",
    "A[:,0] = fx.reshape(np.shape(fx)[0]*np.shape(fx)[1])\n",
    "A[:,1] = fy.reshape(np.shape(fy)[0]*np.shape(fy)[1])\n",
    "b = t.reshape(np.shape(t)[0]*np.shape(t)[1])\n",
    "bEst = np.dot(np.linalg.pinv(A),b)"
   ]
  },
  {
   "cell_type": "code",
   "execution_count": 363,
   "metadata": {},
   "outputs": [
    {
     "name": "stdout",
     "output_type": "stream",
     "text": [
      "[ 9.04352802 -1.61268472]\n"
     ]
    }
   ],
   "source": [
    "print(bEst)"
   ]
  },
  {
   "cell_type": "markdown",
   "metadata": {},
   "source": [
    "**Relaunch the above code**:\n",
    "- with and without noise\n",
    "- with the lena image, instead of the ball image.\n",
    "\n",
    "Each time, are you able to correctly estimate the translation? Why? Comment your results."
   ]
  },
  {
   "cell_type": "markdown",
   "metadata": {},
   "source": [
    "**ANSWER**\n",
    "\n",
    "* **Ball image without noise** : We get a correct approximation. With the first method, we get [c,d] = [10,1] and with the second method, we get [c,d] = [9.99,0.99].\n",
    "\n",
    "* **Ball image with noise (sigma = 5)** : We get an incorrect approximation. With the first method, we get [c,d] = [5.63,11.74] and with the second method, we get [c,d] = [1.39,2.39]. \n",
    "\n",
    "* **Lena image without noise** : We get an incorrect approximation. With the first method, we get [c,d] = [8.92,0] and with the second method, we get [c,d] = [7.90,0.01].\n",
    "\n",
    "* **Lena image with noise (sigma = 5)** : We get an incorrect approximation. With the first method, we get [c,d] = [7.88,0.06] and with the second method, we get [c,d] = [5.19,-0.16].\n",
    "\n",
    "Both methods work well for simple images without noise such as the ball image without noise. This is because the ball has a dominant low-frequency spectrum. Adding noise makes it difficult to extract a clear linear phase. Moreover, the lena image contains high-frenquency components which lead to phase distortions. Noise and high-frequency elements make both methods fail which explains the results observed. "
   ]
  },
  {
   "cell_type": "markdown",
   "metadata": {},
   "source": [
    "# II-Indirect parametric estimation\n",
    "In this last part, we will perform indirect parametric estimation. The movement vector field will be estimated by 1) block matching; 2) optic flow. **You have to reuse here the functions that you implemented during the first practical work**. Each time, you will then estimate the translation by taking the median of the estimated vector field.\n",
    "\n",
    "Perform the experiment without and with noise (you can then take sigma = 2).\n",
    "\n",
    "Finally, compare all the parametric estimation methods when the translation values are not integer."
   ]
  },
  {
   "cell_type": "code",
   "execution_count": 364,
   "metadata": {},
   "outputs": [],
   "source": [
    "#%%\n",
    "def initVector(ref,cur):\n",
    "    \"\"\"\n",
    "    Performs an initialization for the first regularizers\n",
    "\n",
    "    Parameters\n",
    "    ----------\n",
    "    ref : np.array\n",
    "        Reference image.\n",
    "    cur : np.array\n",
    "        Reference image.\n",
    "\n",
    "    Returns\n",
    "    -------\n",
    "    pV : np.array (vector of size 2)\n",
    "        Regularizer for displacement.\n",
    "\n",
    "    \"\"\"\n",
    "    \n",
    "    \n",
    "    step = 8\n",
    "    cont = 4*step\n",
    "    \n",
    "    REF = gaussian_filter(ref,1.) \n",
    "    CUR = gaussian_filter(cur,1.)\n",
    "    \n",
    "    CUR = CUR[cont+1:(np.shape(CUR)[0]-cont):step,cont+1:(np.shape(CUR)[1]-cont):step]\n",
    "    SSDMIN = np.inf\n",
    "    \n",
    "    pV=np.zeros(2)\n",
    "    \n",
    "    for globR in range(-cont,cont):\n",
    "        for globC in range(-cont,cont):\n",
    "            RR = REF[cont+1-globR:(cont-globR+np.shape(CUR)[0]*step):step, cont+1-globC:(cont-globC+np.shape(CUR)[1]*step):step]\n",
    "            SSD = np.sum((RR-CUR)**2)\n",
    "            \n",
    "            if SSD<SSDMIN:\n",
    "                SSDMIN=SSD\n",
    "                pV[0]=globR\n",
    "                pV[1]=globC\n",
    "                \n",
    "                \n",
    "    return pV\n",
    "\n",
    "#%%\n",
    "def computePredictor(r,c,brow,bcol,mvf,ref,cur):\n",
    "    \"\"\"\n",
    "    compute predictor gives the median of the mvf of the blocks :\n",
    "        - to the left of the current block\n",
    "        - above the current block\n",
    "        - upper left of the current block\n",
    "        \n",
    "    If such blocks do not exist due to the border effects, they are not taken into account.\n",
    "\n",
    "    Parameters\n",
    "    ----------\n",
    "    See usage in the me_ssd function\n",
    "\n",
    "    Returns\n",
    "    -------\n",
    "    pV : Median of the mvf of the neighboor blocks\n",
    "\n",
    "    \"\"\"\n",
    "    if r < brow and c < bcol:\n",
    "        pV = initVector(ref,cur)\n",
    "        \n",
    "    elif r < brow: # First row\n",
    "        pV = mvf[r,c-bcol,:]\n",
    "        \n",
    "    elif c < bcol: # First column\n",
    "        pV = mvf[r-brow,c,:]\n",
    "        \n",
    "    else: # Inside\n",
    "        if c >= np.shape(mvf)[1]-bcol: # Last column\n",
    "            vC = mvf[r-brow,c-bcol,:]\n",
    "        \n",
    "        else: # Not the last column\n",
    "            vC = mvf[r-brow,c+bcol,:]\n",
    "            \n",
    "        vA = mvf[r,c-bcol,:]\n",
    "        vB = mvf[r-brow,c,:]\n",
    "\n",
    "        temp = np.array([vA, vB, vC]).T\n",
    "\n",
    "        pV = np.median(temp,axis = 1)\n",
    "        \n",
    "    pV = pV.ravel()\n",
    "    \n",
    "    return pV\n",
    "\n",
    "\n",
    "#%%\n",
    "def me_ssd(cur, ref, brow, bcol, search, lamb=0):\n",
    "    \"\"\"\n",
    "    ME BMA full search Motion estimation\n",
    "    mvf, prediction = me_ssd(cur, ref, brow, bcol, search);\n",
    "\n",
    "    A regularization constraint can be used\n",
    "    mvf = me(cur, ref, brow, bcol, search, lambda);\n",
    "    In this case the function minimize SAD(v)+lambda*error(v)\n",
    "    where error(v) is the difference between the candidate vector v and the\n",
    "    median of its avalaible neighbors.\n",
    " \n",
    "    Code inspired from the one of Marco Cagnazzo\n",
    "\n",
    "\n",
    "    Parameters\n",
    "    ----------\n",
    "    cur : numpy array\n",
    "        Current (i.e. second) frame of the video.\n",
    "    ref : numpy array\n",
    "        Previous (i.e. first) frame of the video.\n",
    "    brow : int\n",
    "        Number of rows in each block.\n",
    "    bcol : int\n",
    "        Number of rows in each block.\n",
    "    search : int\n",
    "        Search radius\n",
    "    lamb : double\n",
    "        Regularization parameter\n",
    "\n",
    "    Returns\n",
    "    -------\n",
    "    mvf : TYPE\n",
    "        DESCRIPTION.\n",
    "    prediction : TYPE\n",
    "        DESCRIPTION.\n",
    "\n",
    "    \"\"\"\n",
    "    \n",
    "    extension = search\n",
    "    \n",
    "    ref_extended = cv2.copyMakeBorder(ref, extension, extension, extension, extension, cv2.BORDER_REPLICATE) # To avoid border effect\n",
    "    \n",
    "    prediction = np.zeros(np.shape(cur));\n",
    "    lamb *= brow*bcol;\n",
    "\n",
    "    \n",
    "    \n",
    "    mvf = np.zeros((np.shape(cur)[0],np.shape(cur)[1],2))\n",
    "    \n",
    "    # Non-regularized search\n",
    "    if lamb == 0.:\n",
    "        print(\"Non-regularized search\")\n",
    "        for r in range(0,cur.shape[0],brow): # for each block in the current image, find the best corresponding block in the reference image\n",
    "            for c in range(0,cur.shape[1],bcol):\n",
    "                # current block selection\n",
    "                B = cur[r:r+brow,c:c+bcol] # Block\n",
    "                #print(\"B shape:\",B.shape)\n",
    "                #print(B)\n",
    "\n",
    "                # Initialization:\n",
    "                \n",
    "                costMin = np.inf\n",
    "                \n",
    "                Rbest = ref[r:r+brow,c:c+bcol] # Initialisation of the best block\n",
    "                row_best_disp = 0\n",
    "                col_best_disp = 0\n",
    "                # Loop on candidate displacement vectors\n",
    "                \n",
    "                for dcol in range(-extension,extension): # dcol = candidate displacement vector over the columns\n",
    "                    for drow in range(-extension,extension):# rcol = candidate displacement vector over the rows\n",
    "                        im_test = ref_extended[r+drow+extension:r+drow+extension+brow,dcol+extension+c:c+dcol+extension+bcol] # Block in the reference image\n",
    "                        #print(drow+extension,dcol+extension)\n",
    "                        #print(\"drow,dcol:\",drow,dcol)\n",
    "                        #print(\"im shape:\",im_test.shape)\n",
    "                        #print(im_test)\n",
    "                        SSD = np.sum((B-im_test)**2) # Sum of squared differences\n",
    "                        #print(\"SSD:\",SSD)\n",
    "                        \n",
    "                        if SSD<costMin: # Save the results if they are better than the previous ones\n",
    "                            costMin = SSD\n",
    "                            Rbest = im_test\n",
    "                            row_best_disp = drow\n",
    "                            col_best_disp = dcol\n",
    "                            \n",
    "                mvf[r:r+brow,c:c+bcol,0] = np.ones((brow,bcol))*row_best_disp # Once the loop is over, save the best row displacement field\n",
    "                mvf[r:r+brow,c:c+bcol,1] = np.ones((brow,bcol))*col_best_disp # Once the loop is over, save the best column displacement field\n",
    "                prediction[r:r+brow,c:c+bcol]= Rbest\n",
    "                    \n",
    "    else: # Regularized search\n",
    "        print(\"Regularized search\")\n",
    "        for r in range(0, cur.shape[0],brow): # for each block in the current image, find the best corresponding block in the reference image\n",
    "            for c in range(0, cur.shape[1],bcol):\n",
    "                # current block selection\n",
    "                B =  cur[r:r+brow, c:c+bcol]# Block\n",
    "\n",
    "                # Initializations          \n",
    "                vect = initVector(ref,cur)\n",
    "                costMin = np.inf\n",
    "                Rbest = ref[r:r+brow,c:c+bcol] # Initialisation of the best block\n",
    "                row_best_disp = 0\n",
    "                col_best_disp = 0\n",
    "\n",
    "                # Neighbours : pV is the regularization vector. The regularizer must be such that the estimated displacement is not too far away from pV\n",
    "                pV = computePredictor(r,c,brow,bcol,mvf,ref,cur)\n",
    "                \n",
    "                # Loop on candidate vectors\n",
    "                for dcol in range(-extension, extension): # dcol = candidate displacement vector over the columns\n",
    "                    for drow in range(-extension, extension): # rcol = candidate displacement vector over the rows\n",
    "                        im_test = ref_extended[r+drow+extension:r+drow+extension+brow,dcol+extension+c:c+dcol+extension+bcol]\n",
    "                        vect_test = np.array([drow,dcol])\n",
    "                        error = np.sum((vect_test - pV)**2)\n",
    "                        SSD = np.sum((B-im_test)**2)\n",
    "                        cost = SSD + lamb*error # here, encore the REGULARIZED cost function\n",
    "                        if cost < costMin: # Save the results if they are better than the previous ones\n",
    "                            costMin = cost\n",
    "                            Rbest = im_test\n",
    "                            row_best_disp = drow\n",
    "                            col_best_disp = dcol\n",
    "                \n",
    "                \n",
    "                mvf[r:r+brow,c:c+bcol,0]= np.ones((brow,bcol))*row_best_disp # Once the loop is over, save the best row displacement field\n",
    "                mvf[r:r+brow,c:c+bcol,1]= np.ones((brow,bcol))*col_best_disp # Once the loop is over, save the best column displacement field\n",
    "                prediction[r:r+brow,c:c+bcol]=Rbest\n",
    "                \n",
    "                \n",
    "    mvf = -mvf # For compatibility with standards\n",
    "                            \n",
    "    return mvf, prediction"
   ]
  },
  {
   "cell_type": "code",
   "execution_count": 365,
   "metadata": {},
   "outputs": [],
   "source": [
    "def displayMVF(I,mvf,subsamp):\n",
    "    \n",
    "    row,col = np.shape(I)\n",
    "    \n",
    "    # Subsample dense MVF \n",
    "    vectRow = mvf[0:row:subsamp,0:col:subsamp,0]\n",
    "    vectCol = mvf[0:row:subsamp,0:col:subsamp,1]\n",
    "    \n",
    "    # Determine vector origins\n",
    "    X,Y = np.meshgrid(np.arange(0,col,subsamp),np.arange(0,row,subsamp))\n",
    "    X = X + np.floor(subsamp/2.)\n",
    "    Y = Y + np.floor(subsamp/2.)\n",
    "    \n",
    "    # Show image\n",
    "    plt.figure()\n",
    "    plt.imshow(I,cmap='gray')\n",
    "\n",
    "    plt.quiver(X, Y, vectCol,-vectRow)\n",
    "\n",
    "    \n",
    "    return"
   ]
  },
  {
   "cell_type": "code",
   "execution_count": 366,
   "metadata": {},
   "outputs": [
    {
     "name": "stdout",
     "output_type": "stream",
     "text": [
      "Regularized search\n",
      "9.0\n",
      "2.0\n"
     ]
    },
    {
     "data": {
      "image/png": "[encoded data removed]",
      "text/plain": [
       "<Figure size 640x480 with 1 Axes>"
      ]
     },
     "metadata": {},
     "output_type": "display_data"
    }
   ],
   "source": [
    "lamb = 5 #0,5,500\n",
    "mvf,prediction = me_ssd(im2,im1_b,32,32,10,lamb)\n",
    "displayMVF(im2,mvf,32)\n",
    "mvf_x = mvf[:,:,1]\n",
    "mvf_y = mvf[:,:,0]\n",
    "bx = np.median(mvf_x)\n",
    "by = np.median(mvf_y)\n",
    "print(bx)\n",
    "print(by)"
   ]
  },
  {
   "cell_type": "markdown",
   "metadata": {},
   "source": [
    "Estimation with optic flow"
   ]
  },
  {
   "cell_type": "code",
   "execution_count": 367,
   "metadata": {},
   "outputs": [],
   "source": [
    "def computeDerivatives(im1, im2):\n",
    "    kernel1D = np.expand_dims((1./12.)*np.array([-1., 8., 0., -8., 1.]),axis=1).T\n",
    "    fx = convolve2d(im1,kernel1D,'same')\n",
    "    fy = convolve2d(im1,kernel1D.T,'same')\n",
    "    ft = convolve2d(im1, 0.25*np.ones((2,2)),'same') + convolve2d(im2, -0.25*np.ones((2,2)),'same');\n",
    "    fx =-fx;\n",
    "    fy=-fy;\n",
    "\n",
    "    return fx, fy, ft\n",
    "\n",
    "\n",
    "#%%\n",
    "def HS(im1, im2, uInitial, vInitial, alpha=1, ite=100,blur = 1.):\n",
    "    \"\"\"\n",
    "    Horn-Schunck optical flow method.\n",
    "    Horn, B.K.P., and Schunck, B.G., Determining Optical Flow, AI(17), No. 1-3, August 1981, pp. 185-203 http://dspace.mit.edu/handle/1721.1/6337\n",
    "    \n",
    "    [u, v] = HS(im1, im2, alpha, ite, uInitial, vInitial, displayFlow)\n",
    "    \n",
    "    Parameters\n",
    "    ----------\n",
    "    im1, im2 : np.array\n",
    "        Two subsequent frames or images.\n",
    "    uInitial, vInitial: np.array\n",
    "        Initial values for the (u,v) flow. If well initialized, the flow would converge faster and hence would need less iterations.\n",
    "    alpha : scalar\n",
    "        A parameter that reflects the influence of the smoothness term.\n",
    "    ite : int\n",
    "        Number of iterations.\n",
    "\n",
    "    Returns\n",
    "    -------\n",
    "    u,v : np.array\n",
    "        Optical flow.\n",
    "    \"\"\"\n",
    "    \n",
    "    im1 = gaussian_filter(im1,blur)\n",
    "    im2 = gaussian_filter(im2,blur)\n",
    "    \n",
    "    # Set initial value for the flow vectors\n",
    "    u = uInitial.copy()\n",
    "    v = vInitial.copy()\n",
    "    \n",
    "    # Estimate spatiotemporal derivatives\n",
    "    fx, fy, ft = computeDerivatives(im1, im2)\n",
    "    \n",
    "    # Averaging kernel\n",
    "    kernel_1=np.array([[1./12., 1./6., 1./12.],[1./6., 0., 1./6.],[1./12., 1./6., 1./12.]])\n",
    "    \n",
    "    for i in range(ite):\n",
    "        # Compute local averages of the flow vectors using kernel_1\n",
    "        uAvg= convolve2d(u,kernel_1,'same')\n",
    "        vAvg= convolve2d(v,kernel_1,'same')\n",
    "        \n",
    "        # Compute flow vectors constrained by its local average and the optical flow constraints\n",
    "        u = uAvg - fx*(uAvg*fx + vAvg*fy + ft)/(alpha**2 + fx**2 + fy**2)\n",
    "        v = vAvg - fy*(uAvg*fx + vAvg*fy + ft)/(alpha**2 + fx**2 + fy**2) \n",
    "        \n",
    "        \n",
    "    u[np.isnan(u)]= 0\n",
    "    v[np.isnan(v)]= 0\n",
    "    return u, v"
   ]
  },
  {
   "cell_type": "code",
   "execution_count": 368,
   "metadata": {},
   "outputs": [
    {
     "name": "stdout",
     "output_type": "stream",
     "text": [
      "8.752503212162207\n",
      "1.9540365693928734\n"
     ]
    },
    {
     "data": {
      "image/png": "[encoded data removed]",
      "text/plain": [
       "<Figure size 640x480 with 1 Axes>"
      ]
     },
     "metadata": {},
     "output_type": "display_data"
    }
   ],
   "source": [
    "alpha = 100\n",
    "ite = 100\n",
    "uInitial = mvf[:,:,1]\n",
    "vInitial = mvf[:,:,0]\n",
    "u, v = HS(im2, im1_b, uInitial, vInitial, alpha, ite)\n",
    "mvf_hs = np.zeros((np.shape(v)[0],np.shape(v)[1],2))\n",
    "mvf_hs[:,:,0] = v\n",
    "mvf_hs[:,:,1] = u\n",
    "displayMVF(im1_b,mvf_hs,4)\n",
    "bx = np.median(u)\n",
    "by = np.median(v)\n",
    "print(bx)\n",
    "print(by)"
   ]
  },
  {
   "cell_type": "markdown",
   "metadata": {},
   "source": [
    "**ANSWER:**\n",
    "\n",
    "For the displacement [10,1] : \n",
    "\n",
    "* Ball without noise (with lamb = 5) : With the block-matching method, we get [c,d] = [10,1] and with the optical flow method, we get [c,d] = [9.49,0.98]\n",
    "\n",
    "* Ball with noise (sigma = 2) (with lamb = 5): With the block-matching method, we get [c,d] = [10,1] and with the optical flow method, we get [c,d] = [9.49,0.98]\n",
    "\n",
    "* Lena without noise (with lamb = 500): With the block-matching method, we get [c,d] = [10,1] and with the optical flow method, we get [c,d] = [5.84,0.51]\n",
    "\n",
    "* Lena with noise (sigma = 2) (with lamb = 500): With the block-matching method, we get [c,d] = [10,1] and with the optical flow method, we get [c,d] = [5.83,0.51]\n",
    "\n",
    "\n",
    "For a non-integer displacement [9.3,1.84]: \n",
    "\n",
    "* Ball without noise (with lamb = 5) : With the block-matching method, we get [c,d] = [9,2] and with the optical flow method, we get [c,d] = [8.75,1.95]\n",
    "\n",
    "* Ball with noise (sigma = 2) (with lamb = 5): With the block-matching method, we get [c,d] = [9,2] and with the optical flow method, we get [c,d] = [8.74,1.95]\n",
    "\n",
    "* Lena without noise (with lamb = 500): With the block-matching method, we get [c,d] = [9,2] and with the optical flow method, we get [c,d] = [5.46,1.27]\n",
    "\n",
    "* Lena with noise (sigma = 2) (with lamb = 500): With the block-matching method, we get [c,d] = [9,2] and with the optical flow method, we get [c,d] = [5.46,1.27]\n",
    "\n",
    "\n",
    "With the block matching method, we always get the closest integer to the real displacement for the estimated displacement. With the optical flow method, for the ball images, we get non-integer displacements close to the real displacements but they are not very accurate. For the lena images, with the optical flow method, we do not get the correct displacements. \n",
    "\n",
    "Block matching divides the image into small patches and searches for the most similar block in the translated image. Since the search is done pixel by pixel, block matching always gives integer displacements. \n",
    "The inaccuracy of the optical flow method applied to the ball could be due to small errors introduced by the gradient estimation or when updating u and v. Optical flow does not work efficiently on textures, edges, high-frequency details, explaining why we do not get accurate estimated displacements on the lena images."
   ]
  }
 ],
 "metadata": {
  "kernelspec": {
   "display_name": "Python 3",
   "language": "python",
   "name": "python3"
  },
  "language_info": {
   "codemirror_mode": {
    "name": "ipython",
    "version": 3
   },
   "file_extension": ".py",
   "mimetype": "text/x-python",
   "name": "python",
   "nbconvert_exporter": "python",
   "pygments_lexer": "ipython3",
   "version": "3.13.1"
  }
 },
 "nbformat": 4,
 "nbformat_minor": 4
}
